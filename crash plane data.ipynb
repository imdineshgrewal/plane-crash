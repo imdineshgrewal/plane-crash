{
 "cells": [
  {
   "cell_type": "code",
   "execution_count": 1,
   "metadata": {},
   "outputs": [],
   "source": [
    "import pandas as pd\n",
    "import numpy as np\n",
    "import matplotlib.pyplot as plt\n",
    "import seaborn as sns"
   ]
  },
  {
   "cell_type": "code",
   "execution_count": 2,
   "metadata": {},
   "outputs": [
    {
     "data": {
      "text/html": [
       "<div>\n",
       "<style scoped>\n",
       "    .dataframe tbody tr th:only-of-type {\n",
       "        vertical-align: middle;\n",
       "    }\n",
       "\n",
       "    .dataframe tbody tr th {\n",
       "        vertical-align: top;\n",
       "    }\n",
       "\n",
       "    .dataframe thead th {\n",
       "        text-align: right;\n",
       "    }\n",
       "</style>\n",
       "<table border=\"1\" class=\"dataframe\">\n",
       "  <thead>\n",
       "    <tr style=\"text-align: right;\">\n",
       "      <th></th>\n",
       "      <th>country</th>\n",
       "      <th>date</th>\n",
       "      <th>fatalities</th>\n",
       "      <th>flight_model</th>\n",
       "      <th>location</th>\n",
       "      <th>operator</th>\n",
       "    </tr>\n",
       "  </thead>\n",
       "  <tbody>\n",
       "    <tr>\n",
       "      <th>0</th>\n",
       "      <td>Italy</td>\n",
       "      <td>02-08-1919</td>\n",
       "      <td>14</td>\n",
       "      <td>Caproni Ca.48</td>\n",
       "      <td>Verona</td>\n",
       "      <td>Caproni</td>\n",
       "    </tr>\n",
       "    <tr>\n",
       "      <th>1</th>\n",
       "      <td>U.K.</td>\n",
       "      <td>11-08-1919</td>\n",
       "      <td>1</td>\n",
       "      <td>Felixstowe Fury</td>\n",
       "      <td>near Felixtowe RNAS</td>\n",
       "      <td>RAF</td>\n",
       "    </tr>\n",
       "    <tr>\n",
       "      <th>2</th>\n",
       "      <td>South Africa</td>\n",
       "      <td>23-02-1920</td>\n",
       "      <td>0</td>\n",
       "      <td>Handley Page O/7</td>\n",
       "      <td>Acadia Sidin...</td>\n",
       "      <td>Handley Page Transport</td>\n",
       "    </tr>\n",
       "    <tr>\n",
       "      <th>3</th>\n",
       "      <td>Sudan</td>\n",
       "      <td>25-02-1920</td>\n",
       "      <td>0</td>\n",
       "      <td>Handley Page O/400</td>\n",
       "      <td>near El Shereik</td>\n",
       "      <td>Handley Page Transport</td>\n",
       "    </tr>\n",
       "    <tr>\n",
       "      <th>4</th>\n",
       "      <td>Sweden</td>\n",
       "      <td>30-06-1920</td>\n",
       "      <td>0</td>\n",
       "      <td>Handley Page O/400</td>\n",
       "      <td>C\u0016stanC%</td>\n",
       "      <td>Handley Page Transport</td>\n",
       "    </tr>\n",
       "  </tbody>\n",
       "</table>\n",
       "</div>"
      ],
      "text/plain": [
       "        country        date fatalities        flight_model  \\\n",
       "0         Italy  02-08-1919         14       Caproni Ca.48   \n",
       "1          U.K.  11-08-1919          1     Felixstowe Fury   \n",
       "2  South Africa  23-02-1920          0    Handley Page O/7   \n",
       "3         Sudan  25-02-1920          0  Handley Page O/400   \n",
       "4        Sweden  30-06-1920          0  Handley Page O/400   \n",
       "\n",
       "              location                operator  \n",
       "0               Verona                 Caproni  \n",
       "1  near Felixtowe RNAS                     RAF  \n",
       "2      Acadia Sidin...  Handley Page Transport  \n",
       "3      near El Shereik  Handley Page Transport  \n",
       "4             C\u0016stanC%  Handley Page Transport  "
      ]
     },
     "execution_count": 2,
     "metadata": {},
     "output_type": "execute_result"
    }
   ],
   "source": [
    "crash_data = pd.read_csv(\"crash_data.csv\", usecols=(0,1,2,3,4,5))    #Reading data\n",
    "crash_data.head()"
   ]
  },
  {
   "cell_type": "code",
   "execution_count": 6,
   "metadata": {},
   "outputs": [
    {
     "data": {
      "text/plain": [
       "country            0\n",
       "date               1\n",
       "fatalities      4163\n",
       "flight_model       2\n",
       "location         964\n",
       "operator          60\n",
       "dtype: int64"
      ]
     },
     "execution_count": 6,
     "metadata": {},
     "output_type": "execute_result"
    }
   ],
   "source": [
    "crash_data.isnull().sum()"
   ]
  },
  {
   "cell_type": "code",
   "execution_count": 9,
   "metadata": {},
   "outputs": [
    {
     "data": {
      "text/plain": [
       "0      02-08-1919\n",
       "1      11-08-1919\n",
       "2      23-02-1920\n",
       "3      25-02-1920\n",
       "4      30-06-1920\n",
       "5      14-12-1920\n",
       "6      15-01-1921\n",
       "7      02-03-1921\n",
       "8      04-03-1921\n",
       "9      26-08-1921\n",
       "10     27-09-1921\n",
       "11     27-09-1921\n",
       "12     30-12-1921\n",
       "13     14-01-1922\n",
       "14     31-03-1922\n",
       "15     07-04-1922\n",
       "16     13-01-1923\n",
       "17     14-05-1923\n",
       "18     25-06-1923\n",
       "19     10-07-1923\n",
       "20     15-07-1923\n",
       "21     27-08-1923\n",
       "22     03-12-1923\n",
       "23    ??-???-1923\n",
       "24     22-01-1924\n",
       "25     06-08-1924\n",
       "26     24-08-1924\n",
       "27     16-10-1925\n",
       "28     14-11-1925\n",
       "29     18-08-1926\n",
       "30     02-10-1926\n",
       "31     21-10-1926\n",
       "32     20-11-1926\n",
       "33     05-05-1927\n",
       "34     22-08-1927\n",
       "35     15-02-1928\n",
       "36     11-03-1928\n",
       "37     11-04-1928\n",
       "38     19-04-1928\n",
       "39     12-05-1928\n",
       "Name: date, dtype: object"
      ]
     },
     "execution_count": 9,
     "metadata": {},
     "output_type": "execute_result"
    }
   ],
   "source": [
    "crash_data[\"date\"].head(40)"
   ]
  },
  {
   "cell_type": "code",
   "execution_count": 3,
   "metadata": {},
   "outputs": [
    {
     "data": {
      "text/plain": [
       "364"
      ]
     },
     "execution_count": 3,
     "metadata": {},
     "output_type": "execute_result"
    }
   ],
   "source": [
    "crash_data[\"fatalities\"].nunique()"
   ]
  },
  {
   "cell_type": "code",
   "execution_count": 4,
   "metadata": {},
   "outputs": [
    {
     "data": {
      "text/plain": [
       "0         9307\n",
       "2         1024\n",
       "1          913\n",
       "3          893\n",
       "4          770\n",
       "          ... \n",
       "114          1\n",
       "29+ 1        1\n",
       "0+ 12        1\n",
       "7+ 4         1\n",
       "109+ 4       1\n",
       "Name: fatalities, Length: 364, dtype: int64"
      ]
     },
     "execution_count": 4,
     "metadata": {},
     "output_type": "execute_result"
    }
   ],
   "source": [
    "crash_data[\"fatalities\"].value_counts()"
   ]
  },
  {
   "cell_type": "code",
   "execution_count": null,
   "metadata": {},
   "outputs": [],
   "source": []
  },
  {
   "cell_type": "code",
   "execution_count": 5,
   "metadata": {},
   "outputs": [
    {
     "ename": "AttributeError",
     "evalue": "'str' object has no attribute 'str'",
     "output_type": "error",
     "traceback": [
      "\u001b[1;31m------------------------------------------------------------\u001b[0m",
      "\u001b[1;31mAttributeError\u001b[0m             Traceback (most recent call last)",
      "\u001b[1;32m<ipython-input-5-8cf0e14bbf81>\u001b[0m in \u001b[0;36m<module>\u001b[1;34m\u001b[0m\n\u001b[0;32m      1\u001b[0m \u001b[1;32mfor\u001b[0m \u001b[0mi\u001b[0m \u001b[1;32min\u001b[0m \u001b[0mrange\u001b[0m\u001b[1;33m(\u001b[0m\u001b[1;36m0\u001b[0m\u001b[1;33m,\u001b[0m\u001b[0mlen\u001b[0m\u001b[1;33m(\u001b[0m\u001b[0mcrash_data\u001b[0m\u001b[1;33m[\u001b[0m\u001b[1;34m\"fatalities\"\u001b[0m\u001b[1;33m]\u001b[0m\u001b[1;33m)\u001b[0m\u001b[1;33m)\u001b[0m\u001b[1;33m:\u001b[0m\u001b[1;33m\u001b[0m\u001b[1;33m\u001b[0m\u001b[0m\n\u001b[1;32m----> 2\u001b[1;33m         \u001b[0mvalue1\u001b[0m\u001b[1;33m=\u001b[0m\u001b[1;33m(\u001b[0m\u001b[0mcrash_data\u001b[0m\u001b[1;33m[\u001b[0m\u001b[1;34m\"fatalities\"\u001b[0m\u001b[1;33m]\u001b[0m\u001b[1;33m[\u001b[0m\u001b[0mi\u001b[0m\u001b[1;33m]\u001b[0m\u001b[1;33m.\u001b[0m\u001b[0mstr\u001b[0m\u001b[1;33m.\u001b[0m\u001b[0msplit\u001b[0m\u001b[1;33m(\u001b[0m\u001b[1;34m\"+\"\u001b[0m\u001b[1;33m)\u001b[0m\u001b[1;33m.\u001b[0m\u001b[0mstr\u001b[0m\u001b[1;33m[\u001b[0m\u001b[1;36m0\u001b[0m\u001b[1;33m]\u001b[0m\u001b[1;33m)\u001b[0m\u001b[1;33m.\u001b[0m\u001b[0mastype\u001b[0m\u001b[1;33m(\u001b[0m\u001b[0mint32\u001b[0m\u001b[1;33m)\u001b[0m\u001b[1;33m\u001b[0m\u001b[1;33m\u001b[0m\u001b[0m\n\u001b[0m\u001b[0;32m      3\u001b[0m         \u001b[0mvalue2\u001b[0m\u001b[1;33m=\u001b[0m\u001b[1;33m(\u001b[0m\u001b[0mcrash_data\u001b[0m\u001b[1;33m[\u001b[0m\u001b[1;34m\"fatalities\"\u001b[0m\u001b[1;33m]\u001b[0m\u001b[1;33m[\u001b[0m\u001b[0mi\u001b[0m\u001b[1;33m]\u001b[0m\u001b[1;33m.\u001b[0m\u001b[0mstr\u001b[0m\u001b[1;33m.\u001b[0m\u001b[0msplit\u001b[0m\u001b[1;33m(\u001b[0m\u001b[1;34m\"+\"\u001b[0m\u001b[1;33m)\u001b[0m\u001b[1;33m.\u001b[0m\u001b[0mstr\u001b[0m\u001b[1;33m[\u001b[0m\u001b[1;36m1\u001b[0m\u001b[1;33m]\u001b[0m\u001b[1;33m)\u001b[0m\u001b[1;33m.\u001b[0m\u001b[0mastype\u001b[0m\u001b[1;33m(\u001b[0m\u001b[0mint32\u001b[0m\u001b[1;33m)\u001b[0m\u001b[1;33m\u001b[0m\u001b[1;33m\u001b[0m\u001b[0m\n\u001b[0;32m      4\u001b[0m         \u001b[1;32mif\u001b[0m \u001b[1;33m(\u001b[0m\u001b[0mvalue2\u001b[0m \u001b[1;33m==\u001b[0m \u001b[0mnp\u001b[0m\u001b[1;33m.\u001b[0m\u001b[0mNaN\u001b[0m\u001b[1;33m)\u001b[0m\u001b[1;33m:\u001b[0m\u001b[1;33m\u001b[0m\u001b[1;33m\u001b[0m\u001b[0m\n\u001b[0;32m      5\u001b[0m             \u001b[0mcrash_data\u001b[0m\u001b[1;33m[\u001b[0m\u001b[1;34m\"fatalities\"\u001b[0m\u001b[1;33m]\u001b[0m\u001b[1;33m[\u001b[0m\u001b[0mi\u001b[0m\u001b[1;33m]\u001b[0m \u001b[1;33m=\u001b[0m \u001b[1;33m(\u001b[0m\u001b[0mvalue1\u001b[0m\u001b[1;33m+\u001b[0m\u001b[0mvalue2\u001b[0m\u001b[1;33m)\u001b[0m\u001b[1;33m/\u001b[0m\u001b[1;36m2\u001b[0m\u001b[1;33m\u001b[0m\u001b[1;33m\u001b[0m\u001b[0m\n",
      "\u001b[1;31mAttributeError\u001b[0m: 'str' object has no attribute 'str'"
     ]
    }
   ],
   "source": [
    "for i in range(0,len(crash_data[\"fatalities\"])):\n",
    "        value1=(crash_data[\"fatalities\"][i].str.split(\"+\").str[0]).astype(int32)\n",
    "        value2=(crash_data[\"fatalities\"][i].str.split(\"+\").str[1]).astype(int32)\n",
    "        if (value2 != null):\n",
    "            crash_data[\"fatalities\"][i] = (value1[i]+value2[i])/2\n"
   ]
  },
  {
   "cell_type": "code",
   "execution_count": 38,
   "metadata": {},
   "outputs": [
    {
     "data": {
      "text/plain": [
       "335"
      ]
     },
     "execution_count": 38,
     "metadata": {},
     "output_type": "execute_result"
    }
   ],
   "source": [
    "value2.notna().sum()"
   ]
  },
  {
   "cell_type": "code",
   "execution_count": 96,
   "metadata": {},
   "outputs": [
    {
     "data": {
      "text/plain": [
       "country            0\n",
       "date               1\n",
       "fatalities      4163\n",
       "flight_model       2\n",
       "location         964\n",
       "operator          60\n",
       "dtype: int64"
      ]
     },
     "execution_count": 96,
     "metadata": {},
     "output_type": "execute_result"
    }
   ],
   "source": []
  },
  {
   "cell_type": "code",
   "execution_count": null,
   "metadata": {},
   "outputs": [],
   "source": []
  }
 ],
 "metadata": {
  "kernelspec": {
   "display_name": "Python 3",
   "language": "python",
   "name": "python3"
  },
  "language_info": {
   "codemirror_mode": {
    "name": "ipython",
    "version": 3
   },
   "file_extension": ".py",
   "mimetype": "text/x-python",
   "name": "python",
   "nbconvert_exporter": "python",
   "pygments_lexer": "ipython3",
   "version": "3.7.4"
  }
 },
 "nbformat": 4,
 "nbformat_minor": 4
}
